{
 "cells": [
  {
   "cell_type": "code",
   "execution_count": 1,
   "metadata": {},
   "outputs": [],
   "source": [
    "import sqlalchemy\n",
    "from sqlalchemy.ext.automap import automap_base\n",
    "from sqlalchemy.orm import Session\n",
    "from sqlalchemy import create_engine, inspect\n",
    "import pymysql\n",
    "import pprint\n",
    "pymysql.install_as_MySQLdb()\n",
    "import pandas as pd\n",
    "import matplotlib.pyplot as plt\n",
    "import numpy as np"
   ]
  },
  {
   "cell_type": "code",
   "execution_count": 2,
   "metadata": {},
   "outputs": [],
   "source": [
    "engine = create_engine(\"sqlite:///hawaii.sqlite\", echo=False)"
   ]
  },
  {
   "cell_type": "code",
   "execution_count": 3,
   "metadata": {},
   "outputs": [
    {
     "data": {
      "text/plain": [
       "['measurements', 'stations']"
      ]
     },
     "execution_count": 3,
     "metadata": {},
     "output_type": "execute_result"
    }
   ],
   "source": [
    "Base = automap_base()\n",
    "Base.prepare(engine, reflect=True)\n",
    "Base.classes.keys()"
   ]
  },
  {
   "cell_type": "code",
   "execution_count": 4,
   "metadata": {},
   "outputs": [],
   "source": [
    "measurements = Base.classes.measurements\n",
    "stations = Base.classes.stations"
   ]
  },
  {
   "cell_type": "code",
   "execution_count": 5,
   "metadata": {},
   "outputs": [],
   "source": [
    "session = Session(engine)"
   ]
  },
  {
   "cell_type": "code",
   "execution_count": 6,
   "metadata": {},
   "outputs": [
    {
     "data": {
      "text/html": [
       "<div>\n",
       "<style scoped>\n",
       "    .dataframe tbody tr th:only-of-type {\n",
       "        vertical-align: middle;\n",
       "    }\n",
       "\n",
       "    .dataframe tbody tr th {\n",
       "        vertical-align: top;\n",
       "    }\n",
       "\n",
       "    .dataframe thead th {\n",
       "        text-align: right;\n",
       "    }\n",
       "</style>\n",
       "<table border=\"1\" class=\"dataframe\">\n",
       "  <thead>\n",
       "    <tr style=\"text-align: right;\">\n",
       "      <th></th>\n",
       "      <th>Prcp</th>\n",
       "    </tr>\n",
       "    <tr>\n",
       "      <th>Date</th>\n",
       "      <th></th>\n",
       "    </tr>\n",
       "  </thead>\n",
       "  <tbody>\n",
       "    <tr>\n",
       "      <th>2017-07-14</th>\n",
       "      <td>0.02</td>\n",
       "    </tr>\n",
       "    <tr>\n",
       "      <th>2017-07-15</th>\n",
       "      <td>0.00</td>\n",
       "    </tr>\n",
       "    <tr>\n",
       "      <th>2017-07-16</th>\n",
       "      <td>0.02</td>\n",
       "    </tr>\n",
       "    <tr>\n",
       "      <th>2017-07-17</th>\n",
       "      <td>0.03</td>\n",
       "    </tr>\n",
       "    <tr>\n",
       "      <th>2017-07-18</th>\n",
       "      <td>0.05</td>\n",
       "    </tr>\n",
       "  </tbody>\n",
       "</table>\n",
       "</div>"
      ],
      "text/plain": [
       "            Prcp\n",
       "Date            \n",
       "2017-07-14  0.02\n",
       "2017-07-15  0.00\n",
       "2017-07-16  0.02\n",
       "2017-07-17  0.03\n",
       "2017-07-18  0.05"
      ]
     },
     "execution_count": 6,
     "metadata": {},
     "output_type": "execute_result"
    }
   ],
   "source": [
    "# Choose a start date and end date for your trip. Make sure that your vacation range is approximately 3-15 days total.\n",
    "start_date = \"2017-08-07\"\n",
    "return_date = \"2017-08-18\"\n",
    "# Design a query to retrieve the last 12 months of precipitation data. Select only the `date` and `prcp` values.\n",
    "one_year_data = engine.execute('SELECT date,prcp FROM measurements WHERE date > \"2017-07-13\"').fetchall()\n",
    "# Load the query results into a Pandas DataFrame and set the index to the date column.\n",
    "datelist = []\n",
    "preclist = []\n",
    "for date in one_year_data:\n",
    "    datelist.append(date[0])\n",
    "    preclist.append(date[1])\n",
    "    \n",
    "one_year_data_df = pd.DataFrame({\"Date\":datelist,\"Prcp\":preclist})\n",
    "one_year_data_df['Date'] = pd.to_datetime(one_year_data_df['Date'])\n",
    "one_year_data_df.set_index('Date', inplace=True)\n",
    "one_year_data_df.head()"
   ]
  },
  {
   "cell_type": "code",
   "execution_count": 7,
   "metadata": {},
   "outputs": [
    {
     "data": {
      "text/html": [
       "<div>\n",
       "<style scoped>\n",
       "    .dataframe tbody tr th:only-of-type {\n",
       "        vertical-align: middle;\n",
       "    }\n",
       "\n",
       "    .dataframe tbody tr th {\n",
       "        vertical-align: top;\n",
       "    }\n",
       "\n",
       "    .dataframe thead th {\n",
       "        text-align: right;\n",
       "    }\n",
       "</style>\n",
       "<table border=\"1\" class=\"dataframe\">\n",
       "  <thead>\n",
       "    <tr style=\"text-align: right;\">\n",
       "      <th></th>\n",
       "      <th>date</th>\n",
       "      <th>id</th>\n",
       "      <th>prcp</th>\n",
       "      <th>station</th>\n",
       "      <th>tobs</th>\n",
       "    </tr>\n",
       "  </thead>\n",
       "  <tbody>\n",
       "    <tr>\n",
       "      <th>0</th>\n",
       "      <td>2010-01-01</td>\n",
       "      <td>1</td>\n",
       "      <td>0.08</td>\n",
       "      <td>USC00519397</td>\n",
       "      <td>65</td>\n",
       "    </tr>\n",
       "    <tr>\n",
       "      <th>1</th>\n",
       "      <td>2010-01-02</td>\n",
       "      <td>2</td>\n",
       "      <td>0.00</td>\n",
       "      <td>USC00519397</td>\n",
       "      <td>63</td>\n",
       "    </tr>\n",
       "    <tr>\n",
       "      <th>2</th>\n",
       "      <td>2010-01-03</td>\n",
       "      <td>3</td>\n",
       "      <td>0.00</td>\n",
       "      <td>USC00519397</td>\n",
       "      <td>74</td>\n",
       "    </tr>\n",
       "    <tr>\n",
       "      <th>3</th>\n",
       "      <td>2010-01-04</td>\n",
       "      <td>4</td>\n",
       "      <td>0.00</td>\n",
       "      <td>USC00519397</td>\n",
       "      <td>76</td>\n",
       "    </tr>\n",
       "    <tr>\n",
       "      <th>4</th>\n",
       "      <td>2010-01-07</td>\n",
       "      <td>5</td>\n",
       "      <td>0.06</td>\n",
       "      <td>USC00519397</td>\n",
       "      <td>70</td>\n",
       "    </tr>\n",
       "  </tbody>\n",
       "</table>\n",
       "</div>"
      ],
      "text/plain": [
       "         date  id  prcp      station  tobs\n",
       "0  2010-01-01   1  0.08  USC00519397    65\n",
       "1  2010-01-02   2  0.00  USC00519397    63\n",
       "2  2010-01-03   3  0.00  USC00519397    74\n",
       "3  2010-01-04   4  0.00  USC00519397    76\n",
       "4  2010-01-07   5  0.06  USC00519397    70"
      ]
     },
     "execution_count": 7,
     "metadata": {},
     "output_type": "execute_result"
    }
   ],
   "source": [
    "measurements_data = engine.execute('SELECT * FROM measurements').fetchall()\n",
    "mid = []\n",
    "mstation = []\n",
    "mdate = []\n",
    "mprcp = []\n",
    "mtobs = []\n",
    "\n",
    "for mdata in measurements_data:\n",
    "    mid.append(mdata[0])\n",
    "    mstation.append(mdata[1])\n",
    "    mdate.append(mdata[2])\n",
    "    mprcp.append(mdata[3])\n",
    "    mtobs.append(mdata[4])\n",
    "measurements_data_df = pd.DataFrame({\"id\":mid,\"station\":mstation,\"date\":mdate,\"prcp\":mprcp,\"tobs\":mtobs})\n",
    "measurements_data_df.head()"
   ]
  },
  {
   "cell_type": "code",
   "execution_count": 8,
   "metadata": {},
   "outputs": [
    {
     "data": {
      "text/plain": [
       "array([  9,  30,  51,  72,  93, 114, 135, 156, 177])"
      ]
     },
     "execution_count": 8,
     "metadata": {},
     "output_type": "execute_result"
    }
   ],
   "source": [
    "ticklist = np.arange(9,len(one_year_data_df),int(len(one_year_data_df)/9))\n",
    "tick_labels = []\n",
    "counter = 0\n",
    "for date in one_year_data_df.index:\n",
    "    if counter in ticklist:\n",
    "        tick_labels.append(date)\n",
    "    counter += 1\n",
    "ticklist"
   ]
  },
  {
   "cell_type": "code",
   "execution_count": 9,
   "metadata": {},
   "outputs": [
    {
     "data": {
      "text/plain": [
       "[Timestamp('2017-07-19 00:00:00'),\n",
       " Timestamp('2017-07-20 00:00:00'),\n",
       " Timestamp('2017-07-24 00:00:00'),\n",
       " Timestamp('2017-07-27 00:00:00'),\n",
       " Timestamp('2017-08-01 00:00:00'),\n",
       " Timestamp('2017-08-02 00:00:00'),\n",
       " Timestamp('2017-08-07 00:00:00'),\n",
       " Timestamp('2017-08-14 00:00:00'),\n",
       " Timestamp('2017-08-18 00:00:00')]"
      ]
     },
     "execution_count": 9,
     "metadata": {},
     "output_type": "execute_result"
    }
   ],
   "source": [
    "tick_labels.sort()\n",
    "tick_labels"
   ]
  },
  {
   "cell_type": "code",
   "execution_count": 10,
   "metadata": {},
   "outputs": [
    {
     "data": {
      "image/png": "[encoded data removed]",
      "text/plain": [
       "<matplotlib.figure.Figure at 0x1c57503c3c8>"
      ]
     },
     "metadata": {},
     "output_type": "display_data"
    }
   ],
   "source": [
    "one_year_data_df.plot(kind='bar', figsize=(15, 10), rot=45 )\n",
    "plt.xlabel(\"Date\")\n",
    "plt.ylabel(\"Precipitation\")\n",
    "plt.grid()\n",
    "plt.xticks(ticklist,tick_labels)\n",
    "plt.savefig(\"Precipition.png\")\n",
    "plt.show()"
   ]
  },
  {
   "cell_type": "code",
   "execution_count": 11,
   "metadata": {},
   "outputs": [
    {
     "data": {
      "text/html": [
       "<div>\n",
       "<style scoped>\n",
       "    .dataframe tbody tr th:only-of-type {\n",
       "        vertical-align: middle;\n",
       "    }\n",
       "\n",
       "    .dataframe tbody tr th {\n",
       "        vertical-align: top;\n",
       "    }\n",
       "\n",
       "    .dataframe thead th {\n",
       "        text-align: right;\n",
       "    }\n",
       "</style>\n",
       "<table border=\"1\" class=\"dataframe\">\n",
       "  <thead>\n",
       "    <tr style=\"text-align: right;\">\n",
       "      <th></th>\n",
       "      <th>Prcp</th>\n",
       "    </tr>\n",
       "  </thead>\n",
       "  <tbody>\n",
       "    <tr>\n",
       "      <th>count</th>\n",
       "      <td>190.000000</td>\n",
       "    </tr>\n",
       "    <tr>\n",
       "      <th>mean</th>\n",
       "      <td>0.126158</td>\n",
       "    </tr>\n",
       "    <tr>\n",
       "      <th>std</th>\n",
       "      <td>0.373337</td>\n",
       "    </tr>\n",
       "    <tr>\n",
       "      <th>min</th>\n",
       "      <td>0.000000</td>\n",
       "    </tr>\n",
       "    <tr>\n",
       "      <th>25%</th>\n",
       "      <td>0.000000</td>\n",
       "    </tr>\n",
       "    <tr>\n",
       "      <th>50%</th>\n",
       "      <td>0.015000</td>\n",
       "    </tr>\n",
       "    <tr>\n",
       "      <th>75%</th>\n",
       "      <td>0.100000</td>\n",
       "    </tr>\n",
       "    <tr>\n",
       "      <th>max</th>\n",
       "      <td>4.000000</td>\n",
       "    </tr>\n",
       "  </tbody>\n",
       "</table>\n",
       "</div>"
      ],
      "text/plain": [
       "             Prcp\n",
       "count  190.000000\n",
       "mean     0.126158\n",
       "std      0.373337\n",
       "min      0.000000\n",
       "25%      0.000000\n",
       "50%      0.015000\n",
       "75%      0.100000\n",
       "max      4.000000"
      ]
     },
     "execution_count": 11,
     "metadata": {},
     "output_type": "execute_result"
    }
   ],
   "source": [
    "# Use Pandas to print the summary statistics for the precipitation data.\n",
    "one_year_data_df.describe()"
   ]
  },
  {
   "cell_type": "code",
   "execution_count": 12,
   "metadata": {},
   "outputs": [
    {
     "data": {
      "text/plain": [
       "[(9,)]"
      ]
     },
     "execution_count": 12,
     "metadata": {},
     "output_type": "execute_result"
    }
   ],
   "source": [
    "# Design a query to calculate the total number of stations.\n",
    "engine.execute('SELECT count(*) FROM stations').fetchall()"
   ]
  },
  {
   "cell_type": "code",
   "execution_count": 13,
   "metadata": {},
   "outputs": [
    {
     "data": {
      "text/html": [
       "<div>\n",
       "<style scoped>\n",
       "    .dataframe tbody tr th:only-of-type {\n",
       "        vertical-align: middle;\n",
       "    }\n",
       "\n",
       "    .dataframe tbody tr th {\n",
       "        vertical-align: top;\n",
       "    }\n",
       "\n",
       "    .dataframe thead th {\n",
       "        text-align: right;\n",
       "    }\n",
       "</style>\n",
       "<table border=\"1\" class=\"dataframe\">\n",
       "  <thead>\n",
       "    <tr style=\"text-align: right;\">\n",
       "      <th></th>\n",
       "      <th>elevation</th>\n",
       "      <th>id</th>\n",
       "      <th>latitude</th>\n",
       "      <th>longitude</th>\n",
       "      <th>name</th>\n",
       "    </tr>\n",
       "  </thead>\n",
       "  <tbody>\n",
       "    <tr>\n",
       "      <th>0</th>\n",
       "      <td>3.0</td>\n",
       "      <td>1</td>\n",
       "      <td>21.27160</td>\n",
       "      <td>-157.81680</td>\n",
       "      <td>WAIKIKI 717.2, HI US</td>\n",
       "    </tr>\n",
       "    <tr>\n",
       "      <th>1</th>\n",
       "      <td>14.6</td>\n",
       "      <td>2</td>\n",
       "      <td>21.42340</td>\n",
       "      <td>-157.80150</td>\n",
       "      <td>KANEOHE 838.1, HI US</td>\n",
       "    </tr>\n",
       "    <tr>\n",
       "      <th>2</th>\n",
       "      <td>7.0</td>\n",
       "      <td>3</td>\n",
       "      <td>21.52130</td>\n",
       "      <td>-157.83740</td>\n",
       "      <td>KUALOA RANCH HEADQUARTERS 886.9, HI US</td>\n",
       "    </tr>\n",
       "    <tr>\n",
       "      <th>3</th>\n",
       "      <td>11.9</td>\n",
       "      <td>4</td>\n",
       "      <td>21.39340</td>\n",
       "      <td>-157.97510</td>\n",
       "      <td>PEARL CITY, HI US</td>\n",
       "    </tr>\n",
       "    <tr>\n",
       "      <th>4</th>\n",
       "      <td>306.6</td>\n",
       "      <td>5</td>\n",
       "      <td>21.49920</td>\n",
       "      <td>-158.01110</td>\n",
       "      <td>UPPER WAHIAWA 874.3, HI US</td>\n",
       "    </tr>\n",
       "    <tr>\n",
       "      <th>5</th>\n",
       "      <td>19.5</td>\n",
       "      <td>6</td>\n",
       "      <td>21.33556</td>\n",
       "      <td>-157.71139</td>\n",
       "      <td>WAIMANALO EXPERIMENTAL FARM, HI US</td>\n",
       "    </tr>\n",
       "    <tr>\n",
       "      <th>6</th>\n",
       "      <td>32.9</td>\n",
       "      <td>7</td>\n",
       "      <td>21.45167</td>\n",
       "      <td>-157.84889</td>\n",
       "      <td>WAIHEE 837.5, HI US</td>\n",
       "    </tr>\n",
       "    <tr>\n",
       "      <th>7</th>\n",
       "      <td>0.9</td>\n",
       "      <td>8</td>\n",
       "      <td>21.31520</td>\n",
       "      <td>-157.99920</td>\n",
       "      <td>HONOLULU OBSERVATORY 702.2, HI US</td>\n",
       "    </tr>\n",
       "    <tr>\n",
       "      <th>8</th>\n",
       "      <td>152.4</td>\n",
       "      <td>9</td>\n",
       "      <td>21.33310</td>\n",
       "      <td>-157.80250</td>\n",
       "      <td>MANOA LYON ARBO 785.2, HI US</td>\n",
       "    </tr>\n",
       "  </tbody>\n",
       "</table>\n",
       "</div>"
      ],
      "text/plain": [
       "   elevation  id  latitude  longitude                                    name\n",
       "0        3.0   1  21.27160 -157.81680                    WAIKIKI 717.2, HI US\n",
       "1       14.6   2  21.42340 -157.80150                    KANEOHE 838.1, HI US\n",
       "2        7.0   3  21.52130 -157.83740  KUALOA RANCH HEADQUARTERS 886.9, HI US\n",
       "3       11.9   4  21.39340 -157.97510                       PEARL CITY, HI US\n",
       "4      306.6   5  21.49920 -158.01110              UPPER WAHIAWA 874.3, HI US\n",
       "5       19.5   6  21.33556 -157.71139      WAIMANALO EXPERIMENTAL FARM, HI US\n",
       "6       32.9   7  21.45167 -157.84889                     WAIHEE 837.5, HI US\n",
       "7        0.9   8  21.31520 -157.99920       HONOLULU OBSERVATORY 702.2, HI US\n",
       "8      152.4   9  21.33310 -157.80250            MANOA LYON ARBO 785.2, HI US"
      ]
     },
     "execution_count": 13,
     "metadata": {},
     "output_type": "execute_result"
    }
   ],
   "source": [
    "stations_data = engine.execute('SELECT id,name ,latitude,longitude,elevation FROM stations').fetchall()\n",
    "stid = []\n",
    "stname = []\n",
    "stlat = []\n",
    "stlgt = []\n",
    "stelev = []\n",
    "for station in stations_data:\n",
    "    stid.append(station[0])\n",
    "    stname.append(station[1])\n",
    "    stlat.append(station[2])\n",
    "    stlgt.append(station[3])\n",
    "    stelev.append(station[4])\n",
    "\n",
    "stations_df = pd.DataFrame({\"id\":stid,\"name\":stname,\"latitude\":stlat,\"longitude\":stlgt,\"elevation\":stelev})\n",
    "stations_df"
   ]
  },
  {
   "cell_type": "code",
   "execution_count": 14,
   "metadata": {},
   "outputs": [
    {
     "data": {
      "text/plain": [
       "[('USC00519281', 2772),\n",
       " ('USC00513117', 2696),\n",
       " ('USC00519397', 2685),\n",
       " ('USC00519523', 2572),\n",
       " ('USC00516128', 2484),\n",
       " ('USC00514830', 1937),\n",
       " ('USC00511918', 1932),\n",
       " ('USC00517948', 683),\n",
       " ('USC00518838', 342)]"
      ]
     },
     "execution_count": 14,
     "metadata": {},
     "output_type": "execute_result"
    }
   ],
   "source": [
    "# List the stations and observation counts in descending order\n",
    "engine.execute('SELECT station,count(*) FROM measurements GROUP BY station ORDER BY count(*) DESC').fetchall()"
   ]
  },
  {
   "cell_type": "code",
   "execution_count": 15,
   "metadata": {},
   "outputs": [
    {
     "data": {
      "text/plain": [
       "[('USC00519281', 2772)]"
      ]
     },
     "execution_count": 15,
     "metadata": {},
     "output_type": "execute_result"
    }
   ],
   "source": [
    "# Which station has the highest number of observations?\n",
    "engine.execute('SELECT station,count(*) FROM measurements GROUP BY station ORDER BY count(*) DESC LIMIT 1').fetchall()"
   ]
  },
  {
   "cell_type": "code",
   "execution_count": 16,
   "metadata": {},
   "outputs": [
    {
     "data": {
      "text/html": [
       "<div>\n",
       "<style scoped>\n",
       "    .dataframe tbody tr th:only-of-type {\n",
       "        vertical-align: middle;\n",
       "    }\n",
       "\n",
       "    .dataframe tbody tr th {\n",
       "        vertical-align: top;\n",
       "    }\n",
       "\n",
       "    .dataframe thead th {\n",
       "        text-align: right;\n",
       "    }\n",
       "</style>\n",
       "<table border=\"1\" class=\"dataframe\">\n",
       "  <thead>\n",
       "    <tr style=\"text-align: right;\">\n",
       "      <th></th>\n",
       "      <th>station</th>\n",
       "      <th>tobs</th>\n",
       "    </tr>\n",
       "  </thead>\n",
       "  <tbody>\n",
       "    <tr>\n",
       "      <th>0</th>\n",
       "      <td>USC00519397</td>\n",
       "      <td>81</td>\n",
       "    </tr>\n",
       "    <tr>\n",
       "      <th>1</th>\n",
       "      <td>USC00519397</td>\n",
       "      <td>80</td>\n",
       "    </tr>\n",
       "    <tr>\n",
       "      <th>2</th>\n",
       "      <td>USC00519397</td>\n",
       "      <td>78</td>\n",
       "    </tr>\n",
       "    <tr>\n",
       "      <th>3</th>\n",
       "      <td>USC00519397</td>\n",
       "      <td>80</td>\n",
       "    </tr>\n",
       "    <tr>\n",
       "      <th>4</th>\n",
       "      <td>USC00519397</td>\n",
       "      <td>80</td>\n",
       "    </tr>\n",
       "  </tbody>\n",
       "</table>\n",
       "</div>"
      ],
      "text/plain": [
       "       station  tobs\n",
       "0  USC00519397    81\n",
       "1  USC00519397    80\n",
       "2  USC00519397    78\n",
       "3  USC00519397    80\n",
       "4  USC00519397    80"
      ]
     },
     "execution_count": 16,
     "metadata": {},
     "output_type": "execute_result"
    }
   ],
   "source": [
    "# Design a query to retrieve the last 12 months of temperature observation data (tobs).\n",
    "query = 'SELECT station,tobs FROM measurements WHERE date > \"2017-07-13\"'\n",
    "one_year_tobs_df = pd.read_sql_query(query, session.bind)\n",
    "one_year_tobs_df.head()"
   ]
  },
  {
   "cell_type": "code",
   "execution_count": 17,
   "metadata": {},
   "outputs": [
    {
     "data": {
      "text/html": [
       "<div>\n",
       "<style scoped>\n",
       "    .dataframe tbody tr th:only-of-type {\n",
       "        vertical-align: middle;\n",
       "    }\n",
       "\n",
       "    .dataframe tbody tr th {\n",
       "        vertical-align: top;\n",
       "    }\n",
       "\n",
       "    .dataframe thead th {\n",
       "        text-align: right;\n",
       "    }\n",
       "</style>\n",
       "<table border=\"1\" class=\"dataframe\">\n",
       "  <thead>\n",
       "    <tr style=\"text-align: right;\">\n",
       "      <th></th>\n",
       "      <th>station</th>\n",
       "      <th>tobs</th>\n",
       "    </tr>\n",
       "  </thead>\n",
       "  <tbody>\n",
       "    <tr>\n",
       "      <th>0</th>\n",
       "      <td>USC00519281</td>\n",
       "      <td>75</td>\n",
       "    </tr>\n",
       "    <tr>\n",
       "      <th>1</th>\n",
       "      <td>USC00519281</td>\n",
       "      <td>75</td>\n",
       "    </tr>\n",
       "    <tr>\n",
       "      <th>2</th>\n",
       "      <td>USC00519281</td>\n",
       "      <td>76</td>\n",
       "    </tr>\n",
       "    <tr>\n",
       "      <th>3</th>\n",
       "      <td>USC00519281</td>\n",
       "      <td>76</td>\n",
       "    </tr>\n",
       "    <tr>\n",
       "      <th>4</th>\n",
       "      <td>USC00519281</td>\n",
       "      <td>76</td>\n",
       "    </tr>\n",
       "  </tbody>\n",
       "</table>\n",
       "</div>"
      ],
      "text/plain": [
       "       station  tobs\n",
       "0  USC00519281    75\n",
       "1  USC00519281    75\n",
       "2  USC00519281    76\n",
       "3  USC00519281    76\n",
       "4  USC00519281    76"
      ]
     },
     "execution_count": 17,
     "metadata": {},
     "output_type": "execute_result"
    }
   ],
   "source": [
    "# Filter by the station with the highest number of observations.\n",
    "query = 'SELECT station,tobs FROM measurements WHERE date > \"2017-07-13\" AND station = \"USC00519281\" order by tobs'\n",
    "one_year_tobs_station_df = pd.read_sql_query(query, session.bind)\n",
    "one_year_tobs_station_df.head()"
   ]
  },
  {
   "cell_type": "code",
   "execution_count": 18,
   "metadata": {},
   "outputs": [
    {
     "data": {
      "image/png": "[encoded data removed]",
      "text/plain": [
       "<matplotlib.figure.Figure at 0x1c5754f84e0>"
      ]
     },
     "metadata": {},
     "output_type": "display_data"
    }
   ],
   "source": [
    "# Plot the results as a histogram with `bins=12`.\n",
    "one_year_tobs_df.plot.hist(bins=12)\n",
    "plt.ylabel(\"Frequency\")\n",
    "plt.xlabel(\"Temperature\")\n",
    "plt.savefig(\"TemperatureHistogram.png\")\n",
    "plt.show()"
   ]
  },
  {
   "cell_type": "code",
   "execution_count": 49,
   "metadata": {},
   "outputs": [],
   "source": [
    "# Write a function called `calc_temps` that will accept a start date and end date in the format `%Y-%m-%d` \n",
    "# and return the minimum, average, and maximum temperatures for that range of dates.\n",
    "def calc_temps(start_date,end_date):\n",
    "    query = f'SELECT date,tobs FROM measurements WHERE date >= \"{start_date}\" and date <= \"{end_date}\"'\n",
    "    tempdata = pd.read_sql_query(query, session.bind)\n",
    "    mintemp = tempdata[\"tobs\"].min()\n",
    "    maxtemp = tempdata[\"tobs\"].max()\n",
    "    avgtemp = tempdata[\"tobs\"].mean()\n",
    "    avgtemp = round(avgtemp,2)\n",
    "    tempdata.head()\n",
    "#     print(f\"Start Date: {start_date}\\nEnd Date: {end_date}\")\n",
    "#     print(f\"Minimum Temperature: {mintemp} degrees\\nMaximum Temperature: {maxtemp} degrees\\nAverage Temperature: {avgtemp} degrees\\n\")\n",
    "    return [(mintemp,maxtemp,avgtemp)]"
   ]
  },
  {
   "cell_type": "code",
   "execution_count": 50,
   "metadata": {},
   "outputs": [],
   "source": [
    "start_date = \"2016-07-20\"\n",
    "return_date = \"2017-08-18\"\n",
    "\n",
    "tempresults = calc_temps(start_date,return_date)\n"
   ]
  },
  {
   "cell_type": "code",
   "execution_count": 51,
   "metadata": {},
   "outputs": [
    {
     "data": {
      "image/png": "[encoded data removed]",
      "text/plain": [
       "<matplotlib.figure.Figure at 0x1c576680470>"
      ]
     },
     "metadata": {},
     "output_type": "display_data"
    }
   ],
   "source": [
    "fig, ax = plt.subplots(figsize=(5,9))\n",
    "ax.bar(0,tempresults[0][2],0.35, yerr=tempresults[0][1]-tempresults[0][0], align='center', color='lightsalmon')\n",
    "ax.set_title('Trip Average Temperature \\n')\n",
    "ax.set_ylabel('Temperature (F)')\n",
    "plt.xticks([])\n",
    "plt.grid()\n",
    "plt.tight_layout()\n",
    "plt.savefig('AverageTemperature.png')\n",
    "plt.show()"
   ]
  },
  {
   "cell_type": "code",
   "execution_count": 54,
   "metadata": {},
   "outputs": [
    {
     "name": "stderr",
     "output_type": "stream",
     "text": [
      " * Restarting with stat\n"
     ]
    },
    {
     "ename": "SystemExit",
     "evalue": "1",
     "output_type": "error",
     "traceback": [
      "An exception has occurred, use %tb to see the full traceback.\n",
      "\u001b[1;31mSystemExit\u001b[0m\u001b[1;31m:\u001b[0m 1\n"
     ]
    },
    {
     "name": "stderr",
     "output_type": "stream",
     "text": [
      "C:\\ProgramData\\Anaconda3\\lib\\site-packages\\IPython\\core\\interactiveshell.py:2918: UserWarning: To exit: use 'exit', 'quit', or Ctrl-D.\n",
      "  warn(\"To exit: use 'exit', 'quit', or Ctrl-D.\", stacklevel=1)\n"
     ]
    }
   ],
   "source": [
    "import sqlalchemy\n",
    "from sqlalchemy.ext.automap import automap_base\n",
    "from sqlalchemy.orm import Session\n",
    "from sqlalchemy import create_engine, inspect\n",
    "import pymysql\n",
    "pymysql.install_as_MySQLdb()\n",
    "import pandas as pd\n",
    "import numpy as np\n",
    "from flask import Flask, jsonify\n",
    "import datetime as dt\n",
    "\n",
    "engine = create_engine(\"sqlite:///hawaii.sqlite\", echo=False)\n",
    "Base = automap_base()\n",
    "Base.prepare(engine, reflect=True)\n",
    "measurements = Base.classes.measurements\n",
    "stations_class = Base.classes.stations\n",
    "session = Session(engine)\n",
    "#Designning a Flask API \n",
    "app = Flask(__name__)\n",
    "\n",
    "\n",
    "# Flask Routes \n",
    "#\"\"\"List all available api routes.\"\"\"\n",
    "@app.route(\"/\") \n",
    "def welcome():\n",
    "    return ( \n",
    "         f\"<h3>Routes:</h3></br>\"\n",
    "         f\"/api/v1.0/precipitation<br/>\" \n",
    "         f\"- List of last year's temperature from all stations<br/>\" \n",
    "         f\"/api/v1.0/stations<br/>\" \n",
    "         f\"- List of stations <br/>\" \n",
    "         f\"/api/v1.0/tobs<br/>\" \n",
    "         f\"- List of Temperature Observations (tobs) for the previous year<br/>\" \n",
    "         f\"/api/v1.0/start<br/>\" \n",
    "         f\"- With start date, come out the MAX, MIN and AVG temperature for all dates from that date of last year  to greater than and equal to that date<br/>\" \n",
    "         f\"/api/v1.0/start/end<br/>\" \n",
    "         f\"- With start date and the end date, come out the MAX, MIN and AVG temperature in between of those dates<br/>\" \n",
    "           ) \n",
    "\n",
    "@app.route(\"/api/v1.0/precipitation\")\n",
    "def precipitation():\n",
    "    max_date_str = engine.execute(\"SELECT MAX(date) AS date FROM measurements\").fetchall()\n",
    "    max_date = pd.to_datetime(max_date_str[0][0])\n",
    "    start_date = max_date - dt.timedelta(days=365)\n",
    "    year_data = pd.read_sql_query(f\"SELECT date,prcp FROM measurements WHERE date >= '{start_date}' AND date <= '{max_date}' ORDER BY date\", session.bind)\n",
    "    \n",
    "    formatted_data = year_data.to_dict('records')\n",
    "    return jsonify(formatted_data)\n",
    "\n",
    "@app.route(\"/api/v1.0/stations\")\n",
    "def stations():\n",
    "    stations_data = pd.read_sql_query(f\"SELECT * FROM stations\", session.bind)\n",
    "    formatted_data = stations_data.to_dict('records')\n",
    "    return jsonify(formatted_data)\n",
    "\n",
    "@app.route(\"/api/v1.0/tobs\")\n",
    "def tobs():\n",
    "    max_date_str = engine.execute(\"SELECT MAX(date) AS date FROM measurements\").fetchall()\n",
    "    max_date = pd.to_datetime(max_date_str[0][0])\n",
    "    start_date = max_date - dt.timedelta(days=365)\n",
    "    year_data = pd.read_sql_query(f\"SELECT date,tobs FROM measurements WHERE date >= '{start_date}' AND date <= '{max_date}' ORDER BY date\", session.bind)\n",
    "    \n",
    "    formatted_data = year_data.to_dict('records')\n",
    "    return jsonify(formatted_data)\n",
    "\n",
    "@app.route(\"/api/v1.0/from/<start_date>\")\n",
    "def start(start_date):    \n",
    "    temp_data = engine.execute(f\"SELECT MIN(tobs),MAX(tobs),AVG(tobs) FROM measurements WHERE date >= '{start_date}'\").fetchall()\n",
    "    temp_dict = {\"Min\":temp_data[0][0],\"Max\":temp_data[0][1],\"Avg\":round(temp_data[0][2],2)}\n",
    "    return jsonify(temp_dict)\n",
    "\n",
    "@app.route(\"/api/v1.0/fromto/<start_date>/<end_date>\")\n",
    "def startend(start_date,end_date):\n",
    "    temp_data = engine.execute(f\"SELECT MIN(tobs),MAX(tobs),AVG(tobs) FROM measurements WHERE date >= '{start_date}' AND date <= '{end_date}'\").fetchall()\n",
    "    temp_dict = {\"Min\":temp_data[0][0],\"Max\":temp_data[0][1],\"Avg\":round(temp_data[0][2],2)}\n",
    "    return jsonify(temp_dict)\n",
    "\n",
    "\n",
    "if __name__ == \"__main__\":\n",
    "    app.run(debug=True)"
   ]
  },
  {
   "cell_type": "code",
   "execution_count": null,
   "metadata": {},
   "outputs": [],
   "source": []
  }
 ],
 "metadata": {
  "kernelspec": {
   "display_name": "Python 3",
   "language": "python",
   "name": "python3"
  },
  "language_info": {
   "codemirror_mode": {
    "name": "ipython",
    "version": 3
   },
   "file_extension": ".py",
   "mimetype": "text/x-python",
   "name": "python",
   "nbconvert_exporter": "python",
   "pygments_lexer": "ipython3",
   "version": "3.6.4"
  }
 },
 "nbformat": 4,
 "nbformat_minor": 2
}
